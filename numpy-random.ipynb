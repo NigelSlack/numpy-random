{
 "cells": [
  {
   "cell_type": "markdown",
   "metadata": {},
   "source": [
    "\n",
    "# HDip Data Analytics numpy.random project"
   ]
  },
  {
   "cell_type": "markdown",
   "metadata": {},
   "source": [
    "The **numpy.random** function, part of the numpy software package, generates **pseudo** random numbers. An initial value, the **seed**, determines the output produced by the algorithm. For any given seed the  same 'random' output will be produced, hence the term 'pseudo'. Without knowing the seed an observer will not be able to predict the output. A truly random generator would always produce an unpredictable outcome - this could be, for example, by measuring the value of a physical entity, such as the level of background radiation. There are many applications however where a pseudo random output is adequate, or indeed desirable. Encryption and decryption of data is required for many purposes, a process that can use the output of a pseudo random generator. In order to decrypt data, the application receiving the encrypted data simply needs the same seed(s) value(s) that was used to generate the encryption key.  \n",
    "\n",
    "Work through the cells in this notebook sequentially to demonstrate features of the function.\n",
    "\n",
    "To demonstrate use of the seed, generate a single number twice, first without specifying the seed, and then using the same seed :\n",
    "\n",
    "\n"
   ]
  },
  {
   "cell_type": "code",
   "execution_count": 2,
   "metadata": {},
   "outputs": [
    {
     "name": "stdout",
     "output_type": "stream",
     "text": [
      "0.4690380952530112\n",
      "0.8320329551649988\n",
      "0.43599490214200376\n",
      "0.43599490214200376\n"
     ]
    }
   ],
   "source": [
    "# Import the numpy package\n",
    "import numpy as np\n",
    "# Generate 2 numbers without using 'seed'\n",
    "print(np.random.rand())\n",
    "print(np.random.rand())\n",
    "# Now set the seed to a specific value, and generate two more numbers\n",
    "np.random.seed(2)\n",
    "print(np.random.rand())\n",
    "np.random.seed(2)\n",
    "print(np.random.rand())"
   ]
  },
  {
   "cell_type": "markdown",
   "metadata": {},
   "source": [
    "As can be seen, the 3rd and 4th values are the same, whereas the first 2, with different seeds, differ (probably - if seed selection is random there is a very small probability the same seed could be selected twice in succession. You would need to know details of the seed selection criteria to determine this probability, and it is possible the selection deliberately prevents using the same seed twice, although that would reduce the overall level of randomness of the process).\n",
    "\n",
    "The 'rand' option above uses a uniform distribution to select numbers from in the range `[0,1)`, that is, inclusive of 0 but exclusive of 1. This distribution is displayed in systems where the likelihood of each possible outcome is approximately equal, for example when spinning a roulette wheel. To illustrate this we'll use a histogram plot of 1000 rand values :"
   ]
  },
  {
   "cell_type": "code",
   "execution_count": 5,
   "metadata": {},
   "outputs": [
    {
     "data": {
      "image/png": "[encoded data removed]",
      "text/plain": [
       "<Figure size 432x288 with 1 Axes>"
      ]
     },
     "metadata": {
      "needs_background": "light"
     },
     "output_type": "display_data"
    }
   ],
   "source": [
    "import matplotlib.pyplot as plt\n",
    "x=np.random.rand(1000)\n",
    "plt.hist(x)\n",
    "plt.title(\"Fig 1\")\n",
    "plt.show()"
   ]
  },
  {
   "cell_type": "markdown",
   "metadata": {},
   "source": [
    "Compare the output in Fig 1 with that produced by using the 'randn' option instead of 'rand'. This provides a 'Normal' distribution, as might be expected in many situations where data are more likely to be clumped around a central mean value, such as the height of all adult males or females in a country. See figure 2 for a plot of 1000 values generated by 'randn':"
   ]
  },
  {
   "cell_type": "code",
   "execution_count": 7,
   "metadata": {},
   "outputs": [
    {
     "data": {
      "image/png": "[encoded data removed]",
      "text/plain": [
       "<Figure size 432x288 with 1 Axes>"
      ]
     },
     "metadata": {
      "needs_background": "light"
     },
     "output_type": "display_data"
    }
   ],
   "source": [
    "x=np.random.randn(1000)\n",
    "plt.hist(x)\n",
    "plt.title(\"Fig 2\")\n",
    "plt.show()"
   ]
  },
  {
   "cell_type": "markdown",
   "metadata": {},
   "source": [
    "For small population samples an obvious distribution pattern may be much less evident - take the randn function with just 15 values :"
   ]
  },
  {
   "cell_type": "code",
   "execution_count": 8,
   "metadata": {},
   "outputs": [
    {
     "data": {
      "image/png": "[encoded data removed]",
      "text/plain": [
       "<Figure size 432x288 with 1 Axes>"
      ]
     },
     "metadata": {
      "needs_background": "light"
     },
     "output_type": "display_data"
    }
   ],
   "source": [
    "x=np.random.randn(15)\n",
    "plt.hist(x)\n",
    "plt.title(\"Fig 3\")\n",
    "plt.show()"
   ]
  },
  {
   "cell_type": "markdown",
   "metadata": {},
   "source": [
    "A random integer output is provided by the 'randint' option, based on a discrete (a finite number of values to choose from), uniform distribution. Such a selection might be useful, for example, in choosing people for jury service - assign every eligible person in the population an integer, then select 12 of them at random, eg:"
   ]
  },
  {
   "cell_type": "code",
   "execution_count": 17,
   "metadata": {},
   "outputs": [
    {
     "name": "stdout",
     "output_type": "stream",
     "text": [
      "[ 120672 1304751  866738 1474573 1793487 1737510  646584  583633 2467833\n",
      "  992160 1697253 1189081]\n"
     ]
    }
   ],
   "source": [
    "x=np.random.randint(0,high=3000000,size=12)\n",
    "print(x)"
   ]
  },
  {
   "cell_type": "markdown",
   "metadata": {},
   "source": [
    "Four options, 'random_sample', 'random', 'ranf' and 'sample' are all aliases, providing a selection of floating number outputs in the range `[0,1)`, with a parameter defining the number of elements to return, eg: "
   ]
  },
  {
   "cell_type": "code",
   "execution_count": 24,
   "metadata": {},
   "outputs": [
    {
     "name": "stdout",
     "output_type": "stream",
     "text": [
      "[0.06178218 0.66995686 0.48891625 0.27746102 0.1850144  0.89337262\n",
      " 0.39154625 0.82083906 0.2920607  0.94899977]\n",
      "[0.48372564 0.06113079 0.67258347 0.43537649 0.63243349]\n"
     ]
    }
   ],
   "source": [
    "x=np.random.random(10)\n",
    "print(x)\n",
    "x=np.random.sample(5)\n",
    "print(x)"
   ]
  },
  {
   "cell_type": "code",
   "execution_count": 21,
   "metadata": {},
   "outputs": [
    {
     "data": {
      "image/png": "[encoded data removed]",
      "text/plain": [
       "<Figure size 432x288 with 1 Axes>"
      ]
     },
     "metadata": {
      "needs_background": "light"
     },
     "output_type": "display_data"
    }
   ],
   "source": [
    "x=np.random.normal(loc=0.0, scale=1.0, size=1000)\n",
    "plt.hist(x)\n",
    "plt.title(\"Fig 3\")\n",
    "plt.show()\n",
    "\n"
   ]
  },
  {
   "cell_type": "code",
   "execution_count": null,
   "metadata": {},
   "outputs": [],
   "source": []
  }
 ],
 "metadata": {
  "kernelspec": {
   "display_name": "Python 3",
   "language": "python",
   "name": "python3"
  },
  "language_info": {
   "codemirror_mode": {
    "name": "ipython",
    "version": 3
   },
   "file_extension": ".py",
   "mimetype": "text/x-python",
   "name": "python",
   "nbconvert_exporter": "python",
   "pygments_lexer": "ipython3",
   "version": "3.7.3"
  }
 },
 "nbformat": 4,
 "nbformat_minor": 2
}
