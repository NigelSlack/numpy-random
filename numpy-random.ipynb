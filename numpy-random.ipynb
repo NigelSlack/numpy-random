{
 "cells": [
  {
   "cell_type": "markdown",
   "metadata": {},
   "source": [
    "\n",
    "# HDip Data Analytics numpy.random project"
   ]
  },
  {
   "cell_type": "markdown",
   "metadata": {},
   "source": [
    "The **numpy.random** function, part of the numpy software package, generates **pseudo** random numbers. An initial value, the **seed**, determines the output produced by the algorithm. For any given seed the  same 'random' output will be produced, hence the term 'pseudo'. Without knowing the seed an observer will not be able to predict the output. A truly random generator would always produce an unpredictable outcome - this could be, for example, by measuring the value of a physical entity, such as the level of background radiation. There are many applications however where a pseudo random output is adequate, or indeed desirable. Encryption and decryption of data is required for many purposes, a process that can use the output of a pseudo random generator. In order to decrypt data, the application receiving the encrypted data simply needs the same seed(s) value(s) that was used to generate the encryption key.  \n",
    "\n",
    "To demonstrate use of the seed, generate a single number twice, first without specifying the seed, and then using the same seed :\n",
    "\n",
    "\n"
   ]
  },
  {
   "cell_type": "code",
   "execution_count": 2,
   "metadata": {},
   "outputs": [
    {
     "name": "stdout",
     "output_type": "stream",
     "text": [
      "0.4690380952530112\n",
      "0.8320329551649988\n",
      "0.43599490214200376\n",
      "0.43599490214200376\n"
     ]
    }
   ],
   "source": [
    "# Import the numpy package\n",
    "import numpy as np\n",
    "# Generate 2 numbers without using 'seed'\n",
    "print(np.random.rand())\n",
    "print(np.random.rand())\n",
    "# Now set the seed to a specific value, and generate two more numbers\n",
    "np.random.seed(2)\n",
    "print(np.random.rand())\n",
    "np.random.seed(2)\n",
    "print(np.random.rand())"
   ]
  },
  {
   "cell_type": "markdown",
   "metadata": {},
   "source": [
    "As can be seen, the 3rd and 4th values are the same, whereas the first 2, with different seeds, differ (probably - if seed selection is random there is a very small probability the same seed could be selected twice in succession. You would need to know details of the seed selection criteria to determine this probability, and it is possible the selection deliberately prevents using the same seed twice, although that would reduce the overall level of randomness of the process)."
   ]
  },
  {
   "cell_type": "code",
   "execution_count": null,
   "metadata": {},
   "outputs": [],
   "source": []
  }
 ],
 "metadata": {
  "kernelspec": {
   "display_name": "Python 3",
   "language": "python",
   "name": "python3"
  },
  "language_info": {
   "codemirror_mode": {
    "name": "ipython",
    "version": 3
   },
   "file_extension": ".py",
   "mimetype": "text/x-python",
   "name": "python",
   "nbconvert_exporter": "python",
   "pygments_lexer": "ipython3",
   "version": "3.7.3"
  }
 },
 "nbformat": 4,
 "nbformat_minor": 2
}
